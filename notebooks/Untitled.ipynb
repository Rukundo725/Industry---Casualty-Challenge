{
 "cells": [
  {
   "cell_type": "code",
   "execution_count": 1,
   "id": "4c88e9c5",
   "metadata": {},
   "outputs": [
    {
     "ename": "ModuleNotFoundError",
     "evalue": "No module named 'pygraphviz'",
     "output_type": "error",
     "traceback": [
      "\u001b[1;31m---------------------------------------------------------------------------\u001b[0m",
      "\u001b[1;31mModuleNotFoundError\u001b[0m                       Traceback (most recent call last)",
      "\u001b[1;32m<ipython-input-1-6e74cf6ca15c>\u001b[0m in \u001b[0;36m<module>\u001b[1;34m\u001b[0m\n\u001b[0;32m     14\u001b[0m \u001b[1;32mfrom\u001b[0m \u001b[0mcausalnex\u001b[0m\u001b[1;33m.\u001b[0m\u001b[0mplots\u001b[0m \u001b[1;32mimport\u001b[0m \u001b[0mplot_structure\u001b[0m\u001b[1;33m,\u001b[0m \u001b[0mNODE_STYLE\u001b[0m\u001b[1;33m,\u001b[0m \u001b[0mEDGE_STYLE\u001b[0m\u001b[1;33m\u001b[0m\u001b[1;33m\u001b[0m\u001b[0m\n\u001b[0;32m     15\u001b[0m \u001b[1;32mfrom\u001b[0m \u001b[0mcausalnex\u001b[0m\u001b[1;33m.\u001b[0m\u001b[0mstructure\u001b[0m\u001b[1;33m.\u001b[0m\u001b[0mnotears\u001b[0m \u001b[1;32mimport\u001b[0m \u001b[0mfrom_pandas\u001b[0m\u001b[1;33m,\u001b[0m \u001b[0mfrom_pandas_lasso\u001b[0m\u001b[1;33m\u001b[0m\u001b[1;33m\u001b[0m\u001b[0m\n\u001b[1;32m---> 16\u001b[1;33m \u001b[1;32mimport\u001b[0m \u001b[0mpygraphviz\u001b[0m\u001b[1;33m\u001b[0m\u001b[1;33m\u001b[0m\u001b[0m\n\u001b[0m\u001b[0;32m     17\u001b[0m \u001b[1;32mimport\u001b[0m \u001b[0mnetworkx\u001b[0m \u001b[1;32mas\u001b[0m \u001b[0mnx\u001b[0m\u001b[1;33m\u001b[0m\u001b[1;33m\u001b[0m\u001b[0m\n\u001b[0;32m     18\u001b[0m \u001b[1;33m\u001b[0m\u001b[0m\n",
      "\u001b[1;31mModuleNotFoundError\u001b[0m: No module named 'pygraphviz'"
     ]
    }
   ],
   "source": [
    "import numpy as np\n",
    "import pandas as pd\n",
    "import matplotlib.pyplot as plt\n",
    "import seaborn as sns\n",
    "from causalgraphicalmodels import CausalGraphicalModel\n",
    "from sklearn.preprocessing import StandardScaler\n",
    "from sklearn.decomposition import PCA\n",
    "from sklearn.model_selection import train_test_split\n",
    "from sklearn.ensemble import RandomForestClassifier\n",
    "from sklearn.metrics import accuracy_score, precision_score, recall_score, f1_score, roc_curve, auc, confusion_matrix\n",
    "from sklearn.preprocessing import LabelEncoder\n",
    "from sklearn.feature_selection import SelectFromModel\n",
    "from IPython.display import Image\n",
    "from causalnex.plots import plot_structure, NODE_STYLE, EDGE_STYLE\n",
    "from causalnex.structure.notears import from_pandas, from_pandas_lasso\n",
    "import pygraphviz\n",
    "import networkx as nx\n",
    "\n",
    "%matplotlib inline"
   ]
  },
  {
   "cell_type": "code",
   "execution_count": 4,
   "id": "68c86cb6",
   "metadata": {},
   "outputs": [
    {
     "name": "stdout",
     "output_type": "stream",
     "text": [
      "Note: you may need to restart the kernel to use updated packages.\n"
     ]
    },
    {
     "name": "stderr",
     "output_type": "stream",
     "text": [
      "ERROR: Could not find a version that satisfies the requirement libgraphviz\n",
      "ERROR: No matching distribution found for libgraphviz\n"
     ]
    }
   ],
   "source": [
    "pip install libgraphviz"
   ]
  },
  {
   "cell_type": "code",
   "execution_count": 2,
   "id": "feb60efa",
   "metadata": {},
   "outputs": [
    {
     "name": "stdout",
     "output_type": "stream",
     "text": [
      "Collecting pygraphviz\n",
      "  Downloading pygraphviz-1.7.zip (118 kB)\n",
      "Building wheels for collected packages: pygraphviz\n",
      "  Building wheel for pygraphviz (setup.py): started\n",
      "  Building wheel for pygraphviz (setup.py): finished with status 'error'\n",
      "  Running setup.py clean for pygraphviz\n",
      "Failed to build pygraphviz\n",
      "Installing collected packages: pygraphviz\n",
      "    Running setup.py install for pygraphviz: started\n",
      "    Running setup.py install for pygraphviz: finished with status 'error'\n",
      "Note: you may need to restart the kernel to use updated packages.\n"
     ]
    },
    {
     "name": "stderr",
     "output_type": "stream",
     "text": [
      "  ERROR: Command errored out with exit status 1:\n",
      "   command: 'C:\\Users\\Germain\\anaconda3\\python.exe' -u -c 'import sys, setuptools, tokenize; sys.argv[0] = '\"'\"'C:\\\\Users\\\\Germain\\\\AppData\\\\Local\\\\Temp\\\\pip-install-8lippgpy\\\\pygraphviz_50adb4c23c664d9c8eec97fffc39c306\\\\setup.py'\"'\"'; __file__='\"'\"'C:\\\\Users\\\\Germain\\\\AppData\\\\Local\\\\Temp\\\\pip-install-8lippgpy\\\\pygraphviz_50adb4c23c664d9c8eec97fffc39c306\\\\setup.py'\"'\"';f=getattr(tokenize, '\"'\"'open'\"'\"', open)(__file__);code=f.read().replace('\"'\"'\\r\\n'\"'\"', '\"'\"'\\n'\"'\"');f.close();exec(compile(code, __file__, '\"'\"'exec'\"'\"'))' bdist_wheel -d 'C:\\Users\\Germain\\AppData\\Local\\Temp\\pip-wheel-uq3zz9b1'\n",
      "       cwd: C:\\Users\\Germain\\AppData\\Local\\Temp\\pip-install-8lippgpy\\pygraphviz_50adb4c23c664d9c8eec97fffc39c306\\\n",
      "  Complete output (46 lines):\n",
      "  running bdist_wheel\n",
      "  running build\n",
      "  running build_py\n",
      "  creating build\n",
      "  creating build\\lib.win-amd64-3.8\n",
      "  creating build\\lib.win-amd64-3.8\\pygraphviz\n",
      "  copying pygraphviz\\agraph.py -> build\\lib.win-amd64-3.8\\pygraphviz\n",
      "  copying pygraphviz\\graphviz.py -> build\\lib.win-amd64-3.8\\pygraphviz\n",
      "  copying pygraphviz\\scraper.py -> build\\lib.win-amd64-3.8\\pygraphviz\n",
      "  copying pygraphviz\\testing.py -> build\\lib.win-amd64-3.8\\pygraphviz\n",
      "  copying pygraphviz\\__init__.py -> build\\lib.win-amd64-3.8\\pygraphviz\n",
      "  creating build\\lib.win-amd64-3.8\\pygraphviz\\tests\n",
      "  copying pygraphviz\\tests\\test_attribute_defaults.py -> build\\lib.win-amd64-3.8\\pygraphviz\\tests\n",
      "  copying pygraphviz\\tests\\test_clear.py -> build\\lib.win-amd64-3.8\\pygraphviz\\tests\n",
      "  copying pygraphviz\\tests\\test_close.py -> build\\lib.win-amd64-3.8\\pygraphviz\\tests\n",
      "  copying pygraphviz\\tests\\test_drawing.py -> build\\lib.win-amd64-3.8\\pygraphviz\\tests\n",
      "  copying pygraphviz\\tests\\test_edge_attributes.py -> build\\lib.win-amd64-3.8\\pygraphviz\\tests\n",
      "  copying pygraphviz\\tests\\test_graph.py -> build\\lib.win-amd64-3.8\\pygraphviz\\tests\n",
      "  copying pygraphviz\\tests\\test_html.py -> build\\lib.win-amd64-3.8\\pygraphviz\\tests\n",
      "  copying pygraphviz\\tests\\test_layout.py -> build\\lib.win-amd64-3.8\\pygraphviz\\tests\n",
      "  copying pygraphviz\\tests\\test_node_attributes.py -> build\\lib.win-amd64-3.8\\pygraphviz\\tests\n",
      "  copying pygraphviz\\tests\\test_readwrite.py -> build\\lib.win-amd64-3.8\\pygraphviz\\tests\n",
      "  copying pygraphviz\\tests\\test_scraper.py -> build\\lib.win-amd64-3.8\\pygraphviz\\tests\n",
      "  copying pygraphviz\\tests\\test_string.py -> build\\lib.win-amd64-3.8\\pygraphviz\\tests\n",
      "  copying pygraphviz\\tests\\test_subgraph.py -> build\\lib.win-amd64-3.8\\pygraphviz\\tests\n",
      "  copying pygraphviz\\tests\\test_unicode.py -> build\\lib.win-amd64-3.8\\pygraphviz\\tests\n",
      "  copying pygraphviz\\tests\\__init__.py -> build\\lib.win-amd64-3.8\\pygraphviz\\tests\n",
      "  running egg_info\n",
      "  writing pygraphviz.egg-info\\PKG-INFO\n",
      "  writing dependency_links to pygraphviz.egg-info\\dependency_links.txt\n",
      "  writing top-level names to pygraphviz.egg-info\\top_level.txt\n",
      "  reading manifest file 'pygraphviz.egg-info\\SOURCES.txt'\n",
      "  reading manifest template 'MANIFEST.in'\n",
      "  warning: no files found matching '*.png' under directory 'doc'\n",
      "  warning: no files found matching '*.txt' under directory 'doc'\n",
      "  warning: no files found matching '*.css' under directory 'doc'\n",
      "  warning: no previously-included files matching '*~' found anywhere in distribution\n",
      "  warning: no previously-included files matching '*.pyc' found anywhere in distribution\n",
      "  warning: no previously-included files matching '.svn' found anywhere in distribution\n",
      "  no previously-included directories found matching 'doc\\build'\n",
      "  writing manifest file 'pygraphviz.egg-info\\SOURCES.txt'\n",
      "  copying pygraphviz\\graphviz.i -> build\\lib.win-amd64-3.8\\pygraphviz\n",
      "  copying pygraphviz\\graphviz_wrap.c -> build\\lib.win-amd64-3.8\\pygraphviz\n",
      "  running build_ext\n",
      "  building 'pygraphviz._graphviz' extension\n",
      "  error: Microsoft Visual C++ 14.0 or greater is required. Get it with \"Microsoft C++ Build Tools\": https://visualstudio.microsoft.com/visual-cpp-build-tools/\n",
      "  ----------------------------------------\n",
      "  ERROR: Failed building wheel for pygraphviz\n",
      "    ERROR: Command errored out with exit status 1:\n",
      "     command: 'C:\\Users\\Germain\\anaconda3\\python.exe' -u -c 'import sys, setuptools, tokenize; sys.argv[0] = '\"'\"'C:\\\\Users\\\\Germain\\\\AppData\\\\Local\\\\Temp\\\\pip-install-8lippgpy\\\\pygraphviz_50adb4c23c664d9c8eec97fffc39c306\\\\setup.py'\"'\"'; __file__='\"'\"'C:\\\\Users\\\\Germain\\\\AppData\\\\Local\\\\Temp\\\\pip-install-8lippgpy\\\\pygraphviz_50adb4c23c664d9c8eec97fffc39c306\\\\setup.py'\"'\"';f=getattr(tokenize, '\"'\"'open'\"'\"', open)(__file__);code=f.read().replace('\"'\"'\\r\\n'\"'\"', '\"'\"'\\n'\"'\"');f.close();exec(compile(code, __file__, '\"'\"'exec'\"'\"'))' install --record 'C:\\Users\\Germain\\AppData\\Local\\Temp\\pip-record-9vtbbk0l\\install-record.txt' --single-version-externally-managed --compile --install-headers 'C:\\Users\\Germain\\anaconda3\\Include\\pygraphviz'\n",
      "         cwd: C:\\Users\\Germain\\AppData\\Local\\Temp\\pip-install-8lippgpy\\pygraphviz_50adb4c23c664d9c8eec97fffc39c306\\\n",
      "    Complete output (46 lines):\n",
      "    running install\n",
      "    running build\n",
      "    running build_py\n",
      "    creating build\n",
      "    creating build\\lib.win-amd64-3.8\n",
      "    creating build\\lib.win-amd64-3.8\\pygraphviz\n",
      "    copying pygraphviz\\agraph.py -> build\\lib.win-amd64-3.8\\pygraphviz\n",
      "    copying pygraphviz\\graphviz.py -> build\\lib.win-amd64-3.8\\pygraphviz\n",
      "    copying pygraphviz\\scraper.py -> build\\lib.win-amd64-3.8\\pygraphviz\n",
      "    copying pygraphviz\\testing.py -> build\\lib.win-amd64-3.8\\pygraphviz\n",
      "    copying pygraphviz\\__init__.py -> build\\lib.win-amd64-3.8\\pygraphviz\n",
      "    creating build\\lib.win-amd64-3.8\\pygraphviz\\tests\n",
      "    copying pygraphviz\\tests\\test_attribute_defaults.py -> build\\lib.win-amd64-3.8\\pygraphviz\\tests\n",
      "    copying pygraphviz\\tests\\test_clear.py -> build\\lib.win-amd64-3.8\\pygraphviz\\tests\n",
      "    copying pygraphviz\\tests\\test_close.py -> build\\lib.win-amd64-3.8\\pygraphviz\\tests\n",
      "    copying pygraphviz\\tests\\test_drawing.py -> build\\lib.win-amd64-3.8\\pygraphviz\\tests\n",
      "    copying pygraphviz\\tests\\test_edge_attributes.py -> build\\lib.win-amd64-3.8\\pygraphviz\\tests\n",
      "    copying pygraphviz\\tests\\test_graph.py -> build\\lib.win-amd64-3.8\\pygraphviz\\tests\n",
      "    copying pygraphviz\\tests\\test_html.py -> build\\lib.win-amd64-3.8\\pygraphviz\\tests\n",
      "    copying pygraphviz\\tests\\test_layout.py -> build\\lib.win-amd64-3.8\\pygraphviz\\tests\n",
      "    copying pygraphviz\\tests\\test_node_attributes.py -> build\\lib.win-amd64-3.8\\pygraphviz\\tests\n",
      "    copying pygraphviz\\tests\\test_readwrite.py -> build\\lib.win-amd64-3.8\\pygraphviz\\tests\n",
      "    copying pygraphviz\\tests\\test_scraper.py -> build\\lib.win-amd64-3.8\\pygraphviz\\tests\n",
      "    copying pygraphviz\\tests\\test_string.py -> build\\lib.win-amd64-3.8\\pygraphviz\\tests\n",
      "    copying pygraphviz\\tests\\test_subgraph.py -> build\\lib.win-amd64-3.8\\pygraphviz\\tests\n",
      "    copying pygraphviz\\tests\\test_unicode.py -> build\\lib.win-amd64-3.8\\pygraphviz\\tests\n",
      "    copying pygraphviz\\tests\\__init__.py -> build\\lib.win-amd64-3.8\\pygraphviz\\tests\n",
      "    running egg_info\n",
      "    writing pygraphviz.egg-info\\PKG-INFO\n",
      "    writing dependency_links to pygraphviz.egg-info\\dependency_links.txt\n",
      "    writing top-level names to pygraphviz.egg-info\\top_level.txt\n",
      "    reading manifest file 'pygraphviz.egg-info\\SOURCES.txt'\n",
      "    reading manifest template 'MANIFEST.in'\n",
      "    warning: no files found matching '*.png' under directory 'doc'\n",
      "    warning: no files found matching '*.txt' under directory 'doc'\n",
      "    warning: no files found matching '*.css' under directory 'doc'\n",
      "    warning: no previously-included files matching '*~' found anywhere in distribution\n",
      "    warning: no previously-included files matching '*.pyc' found anywhere in distribution\n",
      "    warning: no previously-included files matching '.svn' found anywhere in distribution\n",
      "    no previously-included directories found matching 'doc\\build'\n",
      "    writing manifest file 'pygraphviz.egg-info\\SOURCES.txt'\n",
      "    copying pygraphviz\\graphviz.i -> build\\lib.win-amd64-3.8\\pygraphviz\n",
      "    copying pygraphviz\\graphviz_wrap.c -> build\\lib.win-amd64-3.8\\pygraphviz\n",
      "    running build_ext\n",
      "    building 'pygraphviz._graphviz' extension\n",
      "    error: Microsoft Visual C++ 14.0 or greater is required. Get it with \"Microsoft C++ Build Tools\": https://visualstudio.microsoft.com/visual-cpp-build-tools/\n",
      "    ----------------------------------------\n",
      "ERROR: Command errored out with exit status 1: 'C:\\Users\\Germain\\anaconda3\\python.exe' -u -c 'import sys, setuptools, tokenize; sys.argv[0] = '\"'\"'C:\\\\Users\\\\Germain\\\\AppData\\\\Local\\\\Temp\\\\pip-install-8lippgpy\\\\pygraphviz_50adb4c23c664d9c8eec97fffc39c306\\\\setup.py'\"'\"'; __file__='\"'\"'C:\\\\Users\\\\Germain\\\\AppData\\\\Local\\\\Temp\\\\pip-install-8lippgpy\\\\pygraphviz_50adb4c23c664d9c8eec97fffc39c306\\\\setup.py'\"'\"';f=getattr(tokenize, '\"'\"'open'\"'\"', open)(__file__);code=f.read().replace('\"'\"'\\r\\n'\"'\"', '\"'\"'\\n'\"'\"');f.close();exec(compile(code, __file__, '\"'\"'exec'\"'\"'))' install --record 'C:\\Users\\Germain\\AppData\\Local\\Temp\\pip-record-9vtbbk0l\\install-record.txt' --single-version-externally-managed --compile --install-headers 'C:\\Users\\Germain\\anaconda3\\Include\\pygraphviz' Check the logs for full command output.\n"
     ]
    }
   ],
   "source": [
    "pip install pygraphviz"
   ]
  },
  {
   "cell_type": "code",
   "execution_count": 3,
   "id": "beeeb8d0",
   "metadata": {},
   "outputs": [
    {
     "name": "stdout",
     "output_type": "stream",
     "text": [
      "Collecting causalnex\n",
      "  Using cached causalnex-0.10.0-py3-none-any.whl (140 kB)\n",
      "Requirement already satisfied: pandas<2.0,>=1.0 in c:\\users\\germain\\anaconda3\\lib\\site-packages (from causalnex) (1.2.4)\n",
      "Requirement already satisfied: numpy<2.0,>=1.14.2 in c:\\users\\germain\\anaconda3\\lib\\site-packages (from causalnex) (1.20.1)\n",
      "Requirement already satisfied: scipy<1.6,>=1.2.0 in c:\\users\\germain\\anaconda3\\lib\\site-packages (from causalnex) (1.5.4)\n",
      "Requirement already satisfied: networkx~=2.5 in c:\\users\\germain\\anaconda3\\lib\\site-packages (from causalnex) (2.5)\n",
      "Collecting torch~=1.7\n",
      "  Using cached torch-1.9.0-cp38-cp38-win_amd64.whl (222.0 MB)\n",
      "Collecting wrapt<1.12,>=1.11.0\n",
      "  Using cached wrapt-1.11.2-py3-none-any.whl\n",
      "Collecting scikit-learn!=0.22.2.post1,!=0.24.1,<0.25.0,>=0.22.0\n",
      "  Using cached scikit_learn-0.24.2-cp38-cp38-win_amd64.whl (6.9 MB)\n",
      "Collecting pathos<0.3.0,>=0.2.7\n",
      "  Using cached pathos-0.2.8-py2.py3-none-any.whl (81 kB)\n",
      "Collecting pgmpy<0.2.0,>=0.1.12\n",
      "  Using cached pgmpy-0.1.15-py3-none-any.whl (1.9 MB)\n",
      "Requirement already satisfied: decorator>=4.3.0 in c:\\users\\germain\\anaconda3\\lib\\site-packages (from networkx~=2.5->causalnex) (5.0.6)\n",
      "Requirement already satisfied: python-dateutil>=2.7.3 in c:\\users\\germain\\anaconda3\\lib\\site-packages (from pandas<2.0,>=1.0->causalnex) (2.8.1)\n",
      "Requirement already satisfied: pytz>=2017.3 in c:\\users\\germain\\anaconda3\\lib\\site-packages (from pandas<2.0,>=1.0->causalnex) (2021.1)\n",
      "Collecting dill>=0.3.4\n",
      "  Using cached dill-0.3.4-py2.py3-none-any.whl (86 kB)\n",
      "Collecting multiprocess>=0.70.12\n",
      "  Using cached multiprocess-0.70.12.2-py38-none-any.whl (128 kB)\n",
      "Collecting pox>=0.3.0\n",
      "  Using cached pox-0.3.0-py2.py3-none-any.whl (30 kB)\n",
      "Collecting ppft>=1.6.6.4\n",
      "  Using cached ppft-1.6.6.4-py3-none-any.whl (65 kB)\n",
      "Requirement already satisfied: statsmodels in c:\\users\\germain\\anaconda3\\lib\\site-packages (from pgmpy<0.2.0,>=0.1.12->causalnex) (0.12.2)\n",
      "Requirement already satisfied: tqdm in c:\\users\\germain\\anaconda3\\lib\\site-packages (from pgmpy<0.2.0,>=0.1.12->causalnex) (4.59.0)\n",
      "Requirement already satisfied: joblib in c:\\users\\germain\\anaconda3\\lib\\site-packages (from pgmpy<0.2.0,>=0.1.12->causalnex) (1.0.1)\n",
      "Requirement already satisfied: pyparsing in c:\\users\\germain\\anaconda3\\lib\\site-packages (from pgmpy<0.2.0,>=0.1.12->causalnex) (2.4.7)\n",
      "Requirement already satisfied: six>=1.7.3 in c:\\users\\germain\\anaconda3\\lib\\site-packages (from ppft>=1.6.6.4->pathos<0.3.0,>=0.2.7->causalnex) (1.15.0)\n",
      "Requirement already satisfied: threadpoolctl>=2.0.0 in c:\\users\\germain\\anaconda3\\lib\\site-packages (from scikit-learn!=0.22.2.post1,!=0.24.1,<0.25.0,>=0.22.0->causalnex) (2.1.0)\n",
      "Requirement already satisfied: typing-extensions in c:\\users\\germain\\anaconda3\\lib\\site-packages (from torch~=1.7->causalnex) (3.7.4.3)\n",
      "Requirement already satisfied: patsy>=0.5 in c:\\users\\germain\\anaconda3\\lib\\site-packages (from statsmodels->pgmpy<0.2.0,>=0.1.12->causalnex) (0.5.1)\n",
      "Installing collected packages: dill, torch, scikit-learn, ppft, pox, multiprocess, wrapt, pgmpy, pathos, causalnex\n",
      "  Attempting uninstall: scikit-learn\n",
      "    Found existing installation: scikit-learn 0.24.1\n",
      "    Uninstalling scikit-learn-0.24.1:\n",
      "      Successfully uninstalled scikit-learn-0.24.1\n",
      "Note: you may need to restart the kernel to use updated packages.\n"
     ]
    },
    {
     "name": "stderr",
     "output_type": "stream",
     "text": [
      "ERROR: Could not install packages due to an OSError: [WinError 5] Access is denied: 'C:\\\\Users\\\\Germain\\\\anaconda3\\\\Lib\\\\site-packages\\\\~klearn\\\\decomposition\\\\_cdnmf_fast.cp38-win_amd64.pyd'\n",
      "Consider using the `--user` option or check the permissions.\n",
      "\n"
     ]
    }
   ],
   "source": [
    "pip install causalnex"
   ]
  },
  {
   "cell_type": "code",
   "execution_count": null,
   "id": "897099b7",
   "metadata": {},
   "outputs": [],
   "source": []
  }
 ],
 "metadata": {
  "kernelspec": {
   "display_name": "Python 3",
   "language": "python",
   "name": "python3"
  },
  "language_info": {
   "codemirror_mode": {
    "name": "ipython",
    "version": 3
   },
   "file_extension": ".py",
   "mimetype": "text/x-python",
   "name": "python",
   "nbconvert_exporter": "python",
   "pygments_lexer": "ipython3",
   "version": "3.8.8"
  }
 },
 "nbformat": 4,
 "nbformat_minor": 5
}
